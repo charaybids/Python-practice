{
 "cells": [
  {
   "cell_type": "code",
   "execution_count": null,
   "metadata": {},
   "outputs": [
    {
     "name": "stdout",
     "output_type": "stream",
     "text": [
      "Example:\n",
      "[1, 0, 0, 2, 3, 0, 0, 4, 5, 0, 0]\n",
      "The mission is done! Click 'Check Solution' to earn rewards!\n"
     ]
    }
   ],
   "source": [
    "#Duplicate Zeros\n",
    "from collections.abc import Iterable\n",
    "\n",
    "def duplicate_zeros(donuts: list[int]) -> Iterable[int]:\n",
    "    \n",
    "    n = len(donuts)\n",
    "    new_donuts = []\n",
    "    \n",
    "    for donut in donuts:\n",
    "        new_donuts.append(donut)\n",
    "        if donut == 0:\n",
    "            new_donuts.append(0)\n",
    "                \n",
    "    return new_donuts\n",
    "\n",
    "\n",
    "print(\"Example:\")\n",
    "print(list(duplicate_zeros([1, 0, 2, 3, 0, 4, 5, 0])))\n",
    "\n",
    "# These \"asserts\" are used for self-checking\n",
    "assert list(duplicate_zeros([1, 0, 2, 3, 0, 4, 5, 0])) == [\n",
    "    1,\n",
    "    0,\n",
    "    0,\n",
    "    2,\n",
    "    3,\n",
    "    0,\n",
    "    0,\n",
    "    4,\n",
    "    5,\n",
    "    0,\n",
    "    0,\n",
    "]\n",
    "assert list(duplicate_zeros([0, 0, 0, 0])) == [0, 0, 0, 0, 0, 0, 0, 0]\n",
    "assert list(duplicate_zeros([100, 10, 0, 101, 1000])) == [100, 10, 0, 0, 101, 1000]\n",
    "\n",
    "print(\"The mission is done! Click 'Check Solution' to earn rewards!\")"
   ]
  },
  {
   "cell_type": "code",
   "execution_count": 6,
   "metadata": {},
   "outputs": [
    {
     "name": "stdout",
     "output_type": "stream",
     "text": [
      "Example:\n",
      "[1, 3, 1, 3]\n",
      "The mission is done! Click 'Check Solution' to earn rewards!\n"
     ]
    }
   ],
   "source": [
    "#Non unique Elements\n",
    "\n",
    "from collections.abc import Iterable\n",
    "\n",
    "\n",
    "def checkio(data: list[int]) -> Iterable[int]:\n",
    "    \n",
    "    new_data = []\n",
    "    \n",
    "    for i in data:\n",
    "        if data.count(i) > 1:\n",
    "            new_data.append(i)\n",
    "    # your code here\n",
    "    return new_data\n",
    "\n",
    "\n",
    "print(\"Example:\")\n",
    "print(list(checkio([1, 2, 3, 1, 3])))\n",
    "\n",
    "# These \"asserts\" are used for self-checking\n",
    "assert list(checkio([1, 2, 3, 1, 3])) == [1, 3, 1, 3]\n",
    "assert list(checkio([1, 2, 3, 4, 5])) == []\n",
    "assert list(checkio([5, 5, 5, 5, 5])) == [5, 5, 5, 5, 5]\n",
    "assert list(checkio([10, 9, 10, 10, 9, 8])) == [10, 9, 10, 10, 9]\n",
    "assert list(checkio([2, 2, 3, 2, 2])) == [2, 2, 2, 2]\n",
    "assert list(checkio([10, 20, 30, 10])) == [10, 10]\n",
    "assert list(checkio([7])) == []\n",
    "assert list(checkio([0, 1, 2, 3, 4, 0, 1, 2, 4])) == [0, 1, 2, 4, 0, 1, 2, 4]\n",
    "assert list(checkio([99, 98, 99])) == [99, 99]\n",
    "assert list(checkio([0, 0, 0, 1, 1, 100])) == [0, 0, 0, 1, 1]\n",
    "assert list(checkio([0, 0, 0, -1, -1, 100])) == [0, 0, 0, -1, -1]\n",
    "\n",
    "print(\"The mission is done! Click 'Check Solution' to earn rewards!\")"
   ]
  },
  {
   "cell_type": "code",
   "execution_count": 7,
   "metadata": {},
   "outputs": [
    {
     "name": "stdout",
     "output_type": "stream",
     "text": [
      "Example:\n",
      "30\n",
      "The mission is done! Click 'Check Solution' to earn rewards!\n"
     ]
    }
   ],
   "source": [
    "#Even the Last\n",
    "#You are given list of integers (int). You should find the sum of the elements with even indexes (0th, 2nd, 4th...). Then multiply this summed number and the final element of the list together. Don't forget that the first element has an index of 0.\n",
    "#For an empty list, the result will always be 0 (zero).\n",
    "\n",
    "def checkio(array: list[int]) -> int:\n",
    "    # You should find the sum of the elements with even indexes \n",
    "    \n",
    "    if len(array) > 0:\n",
    "\n",
    "        even_indices = [array[i] for i in range(len(array)) if i % 2 == 0]\n",
    "        return sum(even_indices) * array[-1]\n",
    "  \n",
    "    else:\n",
    "        return 0\n",
    "\n",
    "\n",
    "print(\"Example:\")\n",
    "print(checkio([0, 1, 2, 3, 4, 5]))\n",
    "\n",
    "# These \"asserts\" are used for self-checking\n",
    "assert checkio([0, 1, 2, 3, 4, 5]) == 30\n",
    "assert checkio([1, 3, 5]) == 30\n",
    "assert checkio([6]) == 36\n",
    "assert checkio([]) == 0\n",
    "\n",
    "print(\"The mission is done! Click 'Check Solution' to earn rewards!\")"
   ]
  },
  {
   "cell_type": "code",
   "execution_count": 25,
   "metadata": {},
   "outputs": [
    {
     "name": "stdout",
     "output_type": "stream",
     "text": [
      "Example:\n",
      "left,left,left,stop\n",
      "The mission is done! Click 'Check Solution' to earn rewards!\n"
     ]
    }
   ],
   "source": [
    "#right to left\n",
    "#You are given a sequence of strings. You should join these strings into a chunk of text where the initial strings are separated by commas. \n",
    "# As a joke on the right handed robots, you should replace all cases of the words \"right\" with the word \"left\", even if it's a part of another \n",
    "# word. All strings are given in lowercase.\n",
    "\n",
    "def left_join(phrases):\n",
    "    return \",\".join(phrases).replace(\"right\", \"left\")\n",
    "\n",
    "\n",
    "print(\"Example:\")\n",
    "print(left_join((\"left\", \"right\", \"left\", \"stop\")))\n",
    "\n",
    "# These \"asserts\" are used for self-checking\n",
    "assert left_join((\"left\", \"right\", \"left\", \"stop\")) == \"left,left,left,stop\"\n",
    "assert left_join((\"bright aright\", \"ok\")) == \"bleft aleft,ok\"\n",
    "assert left_join((\"brightness wright\",)) == \"bleftness wleft\"\n",
    "assert left_join((\"enough\", \"jokes\")) == \"enough,jokes\"\n",
    "\n",
    "print(\"The mission is done! Click 'Check Solution' to earn rewards!\")"
   ]
  },
  {
   "cell_type": "code",
   "execution_count": 30,
   "metadata": {},
   "outputs": [
    {
     "name": "stdout",
     "output_type": "stream",
     "text": [
      "Example:\n",
      "3\n",
      "The mission is done! Click 'Check Solution' to earn rewards!\n"
     ]
    }
   ],
   "source": [
    "#Days Between\n",
    "#You are given two dates as an tuple with three numbers - a year, month and day. \n",
    "#For example: 19 April 1982 will be (1982, 4, 19). \n",
    "#You should find the difference in days between the given dates. For example between today and tomorrow = 1 day. \n",
    "#The difference will always be either a positive number or zero, so don't forget about the absolute value.\n",
    "\n",
    "from datetime import datetime\n",
    "\n",
    "def days_diff(a: tuple[int, int, int], b: tuple[int, int, int]) -> int:\n",
    "    \n",
    "    date1 = datetime(a[0], a[1], a[2])\n",
    "    date2 = datetime(b[0], b[1], b[2])\n",
    "    \n",
    "    if date1 > date2:\n",
    "        return (date1 - date2).days\n",
    "    elif date2 > date1:\n",
    "        return (date2 - date1).days\n",
    "    \n",
    "    return 0\n",
    "\n",
    "\n",
    "print(\"Example:\")\n",
    "print(days_diff((1982, 4, 19), (1982, 4, 22)))\n",
    "\n",
    "assert days_diff((1982, 4, 19), (1982, 4, 22)) == 3\n",
    "assert days_diff((2014, 1, 1), (2014, 8, 27)) == 238\n",
    "assert days_diff((2014, 8, 27), (2014, 1, 1)) == 238\n",
    "\n",
    "print(\"The mission is done! Click 'Check Solution' to earn rewards!\")"
   ]
  },
  {
   "cell_type": "code",
   "execution_count": 105,
   "metadata": {},
   "outputs": [
    {
     "name": "stdout",
     "output_type": "stream",
     "text": [
      "Example:\n",
      "7\n",
      "2\n",
      "The mission is done! Click 'Check Solution' to earn rewards!\n"
     ]
    }
   ],
   "source": [
    "from itertools import pairwise\n",
    "\n",
    "def changing_direction(elements: list[int]) -> int:\n",
    "    if len(elements) < 2:\n",
    "        return 0\n",
    "    \n",
    "    num_of_changes = 0\n",
    "    direction = 0  # 0 for no direction, 1 for increasing, -1 for decreasing\n",
    "    \n",
    "    for i in range(1, len(elements)):\n",
    "        if elements[i] > elements[i - 1]:\n",
    "            if direction == -1:\n",
    "                num_of_changes += 1\n",
    "            direction = 1\n",
    "        elif elements[i] < elements[i - 1]:\n",
    "            if direction == 1:\n",
    "                num_of_changes += 1\n",
    "            direction = -1\n",
    "\n",
    "    return num_of_changes\n",
    "\n",
    "def changing_direction2(e: list) -> int:\n",
    "    return sum(x*y<0 for x,y in pairwise(x-y for x,y in pairwise(e) if x!=y))\n",
    "\n",
    "print(\"Example:\")\n",
    "print(changing_direction([6, 6, 6, 4, 1, 2, 5, 9, 7, 8, 5, 9, 4, 2, 6]))\n",
    "print(changing_direction([1, 2, 2, 1, 2, 2]))\n",
    "\n",
    "# These \"asserts\" are used for self-checking\n",
    "assert changing_direction([1, 2, 3, 4, 5]) == 0\n",
    "assert changing_direction([1, 2, 3, 2, 1]) == 1\n",
    "assert changing_direction2([1, 2, 2, 1, 2, 2]) == 2\n",
    "\n",
    "print(\"The mission is done! Click 'Check Solution' to earn rewards!\")\n"
   ]
  },
  {
   "cell_type": "code",
   "execution_count": 106,
   "metadata": {},
   "outputs": [
    {
     "name": "stdout",
     "output_type": "stream",
     "text": [
      "Example:\n",
      "\n",
      "The mission is done! Click 'Check Solution' to earn rewards!\n"
     ]
    }
   ],
   "source": [
    "def backward_string_by_word(text: str) -> str:\n",
    "    return_text = \"\"\n",
    "    \n",
    "    if text == \"\":\n",
    "        return \"\"\n",
    "    \n",
    "    split_str = text.split(\" \")\n",
    "    \n",
    "    for word in split_str:\n",
    "        return_text += word[::-1] + \" \"\n",
    "       \n",
    "    return return_text.strip()\n",
    "\n",
    "\n",
    "def backward_string_by_word2(text: str) -> str:\n",
    "    return ' '.join([i[::-1] for i in text.split(' ')])\n",
    "\n",
    "print(\"Example:\")\n",
    "print(backward_string_by_word(\"\"))\n",
    "\n",
    "# These \"asserts\" are used for self-checking\n",
    "assert backward_string_by_word(\"\") == \"\"\n",
    "assert backward_string_by_word(\"world\") == \"dlrow\"\n",
    "assert backward_string_by_word(\"hello world\") == \"olleh dlrow\"\n",
    "assert backward_string_by_word(\"hello   world\") == \"olleh   dlrow\"\n",
    "assert backward_string_by_word(\"welcome to a game\") == \"emoclew ot a emag\"\n",
    "\n",
    "print(\"The mission is done! Click 'Check Solution' to earn rewards!\")\n"
   ]
  },
  {
   "cell_type": "code",
   "execution_count": 58,
   "metadata": {},
   "outputs": [
    {
     "name": "stdout",
     "output_type": "stream",
     "text": [
      "Example:\n",
      "[{'name': 'wine', 'price': 138}, {'name': 'bread', 'price': 100}]\n",
      "The mission is done! Click 'Check Solution' to earn rewards!\n"
     ]
    }
   ],
   "source": [
    "def bigger_price(limit: int, data: list[dict]) -> list[dict]:\n",
    "  \n",
    "    top_most_expensive = []\n",
    "    data.sort(key=lambda x: x['price'], reverse=True)\n",
    "    \n",
    "    for i in range(limit):     \n",
    "        top_most_expensive.append(data[i])\n",
    "    \n",
    "    return top_most_expensive\n",
    "\n",
    "def bigger_price2(limit: int, data: list[dict]) -> list[dict]:\n",
    "  \n",
    "    top_most_expensive = sorted(data, key=lambda x: x['price'], reverse=True)\n",
    "    \n",
    "    # your code here\n",
    "    return top_most_expensive[:limit]\n",
    "\n",
    "print(\"Example:\")\n",
    "print(\n",
    "    bigger_price(\n",
    "        2,\n",
    "        [\n",
    "            {\"name\": \"bread\", \"price\": 100},\n",
    "            {\"name\": \"wine\", \"price\": 138},\n",
    "            {\"name\": \"meat\", \"price\": 15},\n",
    "            {\"name\": \"water\", \"price\": 1},\n",
    "        ],\n",
    "    )\n",
    ")\n",
    "\n",
    "assert bigger_price(\n",
    "    2,\n",
    "    [\n",
    "        {\"name\": \"bread\", \"price\": 100},\n",
    "        {\"name\": \"wine\", \"price\": 138},\n",
    "        {\"name\": \"meat\", \"price\": 15},\n",
    "        {\"name\": \"water\", \"price\": 1},\n",
    "    ],\n",
    ") == [{\"name\": \"wine\", \"price\": 138}, {\"name\": \"bread\", \"price\": 100}]\n",
    "assert bigger_price(\n",
    "    1, [{\"name\": \"pen\", \"price\": 5}, {\"name\": \"whiteboard\", \"price\": 170}]\n",
    ") == [{\"name\": \"whiteboard\", \"price\": 170}]\n",
    "\n",
    "print(\"The mission is done! Click 'Check Solution' to earn rewards!\")"
   ]
  },
  {
   "cell_type": "code",
   "execution_count": 90,
   "metadata": {},
   "outputs": [
    {
     "name": "stdout",
     "output_type": "stream",
     "text": [
      "The mission is done! Click 'Check Solution' to earn rewards!\n"
     ]
    }
   ],
   "source": [
    "def between_markers(text: str, begin: str, end: str) -> str:\n",
    "    start_index = text.find(begin)\n",
    "    end_index = text.find(end)\n",
    "    \n",
    "    if start_index == -1:\n",
    "        start_index = 0\n",
    "    else:\n",
    "        start_index += len(begin)\n",
    "    \n",
    "    if end_index == -1:\n",
    "        end_index = len(text)\n",
    "    \n",
    "    if start_index > end_index:\n",
    "        return \"\"\n",
    "    \n",
    "    return text[start_index:end_index]\n",
    "\n",
    "assert between_markers(\"What is >apple<\", \">\", \"<\") == \"apple\"\n",
    "assert (\n",
    "    between_markers(\"<head><title>My new site</title></head>\", \"<title>\", \"</title>\")\n",
    "    == \"My new site\"\n",
    ")\n",
    "assert between_markers(\"No[/b] hi\", \"[b]\", \"[/b]\") == \"No\"\n",
    "assert between_markers(\"No [b]hi\", \"[b]\", \"[/b]\") == \"hi\"\n",
    "assert between_markers(\"No hi\", \"[b]\", \"[/b]\") == \"No hi\"\n",
    "assert between_markers(\"No <hi>\", \">\", \"<\") == \"\"\n",
    "assert between_markers(\"Never send a human to do a machine's job.\", 'Never', 'do') == \" send a human to \"\n",
    "assert between_markers(\"No <hi> one\", \">\", \"<\") == \"\"\n",
    "\n",
    "print(\"The mission is done! Click 'Check Solution' to earn rewards!\")"
   ]
  },
  {
   "cell_type": "code",
   "execution_count": null,
   "metadata": {},
   "outputs": [],
   "source": [
    "#just to test my understanding of the range function\n",
    "a = [1, 2, 3, 4, 5, 6, 7, 8, 9, 10]\n",
    "\n",
    "for i in range(len(a)):\n",
    "    print(\"index \", i , \" provides value\", a[i])\n",
    "    if i != i+1:\n",
    "        print(\"index \", i, \" and index \", i+1, \" are not equal\")\n",
    "  "
   ]
  },
  {
   "cell_type": "code",
   "execution_count": 99,
   "metadata": {},
   "outputs": [
    {
     "name": "stdout",
     "output_type": "stream",
     "text": [
      "Example:\n",
      "{'i': 4, 'was': 3, 'three': 0, 'near': 0}\n",
      "{'i': 4, 'was': 3, 'three': 0, 'near': 0}\n",
      "{'i': 4, 'was': 3, 'three': 0, 'near': 0}\n",
      "The mission is done! Click 'Check Solution' to earn rewards!\n"
     ]
    }
   ],
   "source": [
    "def popular_words(text: str, words: list) -> dict:\n",
    "    word_dict = {}\n",
    "    \n",
    "    text = text.lower()\n",
    "    \n",
    "    for word in words:\n",
    "        word_dict[word] = text.split().count(word)\n",
    "    \n",
    "    print(word_dict)\n",
    "    \n",
    "    return word_dict\n",
    "\n",
    "\n",
    "print(\"Example:\")\n",
    "print(\n",
    "    popular_words(\n",
    "        \"\"\"\n",
    "When I was One\n",
    "I had just begun\n",
    "When I was Two\n",
    "I was nearly new\n",
    "\"\"\",\n",
    "        [\"i\", \"was\", \"three\", \"near\"],\n",
    "    )\n",
    ")\n",
    "\n",
    "assert popular_words(\n",
    "    \"\\nWhen I was One\\nI had just begun\\nWhen I was Two\\nI was nearly new\\n\",\n",
    "    [\"i\", \"was\", \"three\", \"near\"],\n",
    ") == {\"i\": 4, \"was\": 3, \"three\": 0, \"near\": 0}\n",
    "\n",
    "print(\"The mission is done! Click 'Check Solution' to earn rewards!\")"
   ]
  },
  {
   "cell_type": "code",
   "execution_count": null,
   "metadata": {},
   "outputs": [
    {
     "name": "stdout",
     "output_type": "stream",
     "text": [
      "Example:\n",
      "3\n",
      "The mission is done! Click 'Check Solution' to earn rewards!\n"
     ]
    }
   ],
   "source": [
    "def second_index(text: str, symbol: str) -> int | None:\n",
    "    \n",
    "    return_index = 0\n",
    "    \n",
    "    if text.find(symbol) == -1:\n",
    "        return None\n",
    "    \n",
    "    elif text.find(symbol, text.find(symbol) + 1) == -1:\n",
    "        return None\n",
    "    \n",
    "    else:\n",
    "        return_index = text.find(symbol, text.find(symbol) + 1) #find the second index of the symbol onwards\n",
    "    \n",
    "    return return_index\n",
    "\n",
    "\n",
    "print(\"Example:\")\n",
    "print(second_index(\"sims\", \"s\"))\n",
    "\n",
    "# These \"asserts\" are used for self-checking\n",
    "assert second_index(\"sims\", \"s\") == 3\n",
    "assert second_index(\"find the river\", \"e\") == 12\n",
    "assert second_index(\"hi\", \" \") == None\n",
    "assert second_index(\"hi mayor\", \" \") == None\n",
    "assert second_index(\"hi mr Mayor\", \" \") == 5\n",
    "\n",
    "print(\"The mission is done! Click 'Check Solution' to earn rewards!\")"
   ]
  },
  {
   "cell_type": "code",
   "execution_count": null,
   "metadata": {},
   "outputs": [
    {
     "name": "stdout",
     "output_type": "stream",
     "text": [
      "[4, 20, 22, 35, 39, 45]\n"
     ]
    }
   ],
   "source": []
  }
 ],
 "metadata": {
  "kernelspec": {
   "display_name": "Python 3",
   "language": "python",
   "name": "python3"
  },
  "language_info": {
   "codemirror_mode": {
    "name": "ipython",
    "version": 3
   },
   "file_extension": ".py",
   "mimetype": "text/x-python",
   "name": "python",
   "nbconvert_exporter": "python",
   "pygments_lexer": "ipython3",
   "version": "3.12.7"
  }
 },
 "nbformat": 4,
 "nbformat_minor": 2
}
