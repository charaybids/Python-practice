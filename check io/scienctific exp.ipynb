{
 "cells": [
  {
   "cell_type": "code",
   "execution_count": 7,
   "metadata": {},
   "outputs": [
    {
     "name": "stdout",
     "output_type": "stream",
     "text": [
      "Example:\n",
      "[-5, 10, 15, -20]\n",
      "[0, 1, 2, 3]\n",
      "[0, -1, -2, -3]\n",
      "The mission is done! Click 'Check Solution' to earn rewards!\n"
     ]
    }
   ],
   "source": [
    "def checkio(values: list) -> list:\n",
    "    \n",
    "    for i in range(len(values)):\n",
    "        for j in range(0, len(values)-i-1): #len(values)-i-1 is used to reduce the number of comparisons\n",
    "            if abs(values[j]) > abs(values[j+1]):\n",
    "                values[j], values[j+1] = values[j+1], values[j]\n",
    "            \n",
    "    return values\n",
    "\n",
    "\n",
    "print(\"Example:\")\n",
    "print(checkio([-20, -5, 10, 15]))\n",
    "print(checkio([1, 2, 3, 0]))\n",
    "print(checkio([-1, -2, -3, 0]))\n",
    "\n",
    "# These \"asserts\" are used for self-checking\n",
    "assert checkio([-20, -5, 10, 15]) == [-5, 10, 15, -20]\n",
    "assert checkio([1, 2, 3, 0]) == [0, 1, 2, 3]\n",
    "assert checkio([-1, -2, -3, 0]) == [0, -1, -2, -3]\n",
    "\n",
    "print(\"The mission is done! Click 'Check Solution' to earn rewards!\")\n"
   ]
  },
  {
   "cell_type": "code",
   "execution_count": null,
   "metadata": {},
   "outputs": [
    {
     "name": "stdout",
     "output_type": "stream",
     "text": [
      "Example:\n",
      "12:30 p.m.\n",
      "The mission is done! Click 'Check Solution' to earn rewards!\n"
     ]
    }
   ],
   "source": [
    "import datetime as dt\n",
    "\n",
    "def time_converter(time: str) -> str:\n",
    "    \n",
    "    return_time_str = \"\"\n",
    "    \n",
    "    c_time = dt.datetime.strptime(time, \"%H:%M\")\n",
    "    h_time = dt.datetime.strptime(\"12:00\", \"%H:%M\")\n",
    "    \n",
    "    if c_time >= h_time:\n",
    "        return_time_str = str(dt.datetime.strptime(time, \"%H:%M\").strftime(\"%I:%M %p\")).lower().lstrip('0')\n",
    "    else:\n",
    "        return_time_str = str(dt.datetime.strptime(time, \"%H:%M\").strftime(\"%I:%M %p\")).lower().lstrip('0')\n",
    "    \n",
    "    return return_time_str.replace('am', 'a.m.').replace('pm', 'p.m.')\n",
    "\n",
    "\n",
    "print(\"Example:\")\n",
    "print(time_converter(\"12:30\"))\n",
    "\n",
    "assert time_converter(\"12:30\") == \"12:30 p.m.\"\n",
    "assert time_converter(\"09:00\") == \"9:00 a.m.\"\n",
    "\n",
    "print(\"The mission is done! Click 'Check Solution' to earn rewards!\")\n"
   ]
  },
  {
   "cell_type": "code",
   "execution_count": 11,
   "metadata": {},
   "outputs": [
    {
     "name": "stdout",
     "output_type": "stream",
     "text": [
      "Example:\n",
      "['', 0]\n",
      "The mission is done! Click 'Check Solution' to earn rewards!\n"
     ]
    }
   ],
   "source": [
    "def sum_by_types(items: list[str, int]) -> tuple[str, int] | list[str, int]:\n",
    "    \n",
    "    if items == []:\n",
    "        return [\"\", 0]\n",
    "    else:\n",
    "        int_sum = 0\n",
    "        str_sum = \"\"\n",
    "        \n",
    "        for i in range(len(items)):\n",
    "            if type(items[i]) == int:\n",
    "                int_sum += items[i]\n",
    "            else:\n",
    "                str_sum += items[i]\n",
    "        \n",
    "    return [str_sum, int_sum]\n",
    "\n",
    "\n",
    "print(\"Example:\")\n",
    "print(list(sum_by_types([])))\n",
    "\n",
    "assert list(sum_by_types([])) == [\"\", 0]\n",
    "assert list(sum_by_types([1, 2, 3])) == [\"\", 6]\n",
    "assert list(sum_by_types([\"1\", 2, 3])) == [\"1\", 5]\n",
    "assert list(sum_by_types([\"1\", \"2\", 3])) == [\"12\", 3]\n",
    "assert list(sum_by_types([\"1\", \"2\", \"3\"])) == [\"123\", 0]\n",
    "assert list(sum_by_types([\"size\", 12, \"in\", 45, 0])) == [\"sizein\", 57]\n",
    "\n",
    "print(\"The mission is done! Click 'Check Solution' to earn rewards!\")"
   ]
  },
  {
   "cell_type": "code",
   "execution_count": 15,
   "metadata": {},
   "outputs": [
    {
     "name": "stdout",
     "output_type": "stream",
     "text": [
      "Example:\n",
      "3\n",
      "The mission is done! Click 'Check Solution' to earn rewards!\n"
     ]
    }
   ],
   "source": [
    "def longest_substr(s: str) -> int:\n",
    "    return_longest = 0\n",
    "    substr = \"\"\n",
    "    \n",
    "    for i in range(len(s)):\n",
    "        \n",
    "        if s[i] not in substr:\n",
    "            substr += s[i]\n",
    "        else:\n",
    "            return_longest = max(return_longest, len(substr))\n",
    "            substr = substr[substr.index(s[i])+1:] + s[i]\n",
    "        \n",
    "        return_longest = max(return_longest, len(substr))\n",
    "    \n",
    "    return return_longest\n",
    "\n",
    "\n",
    "print(\"Example:\")\n",
    "print(longest_substr(\"abcabcbb\"))\n",
    "\n",
    "# These \"asserts\" are used for self-checking\n",
    "assert longest_substr(\"abcabcbb\") == 3\n",
    "assert longest_substr(\"bbbbb\") == 1\n",
    "assert longest_substr(\"pwwkew\") == 3\n",
    "assert longest_substr(\"abcdef\") == 6\n",
    "assert longest_substr(\"\") == 0\n",
    "assert longest_substr(\"au\") == 2\n",
    "assert longest_substr(\"dvdf\") == 3\n",
    "\n",
    "print(\"The mission is done! Click 'Check Solution' to earn rewards!\")"
   ]
  },
  {
   "cell_type": "code",
   "execution_count": 7,
   "metadata": {},
   "outputs": [
    {
     "name": "stdout",
     "output_type": "stream",
     "text": [
      "Example:\n",
      "hello\n",
      "how you doin\n",
      "a b c d e f\n",
      "sos aaa\n"
     ]
    },
    {
     "data": {
      "text/plain": [
       "'\\n# These \"asserts\" are used for self-checking\\nassert translation(\"hieeelalaooo\") == \"hello\"\\nassert translation(\"hoooowe yyyooouuu duoooiiine\") == \"how you doin\"\\nassert translation(\"aaa bo cy da eee fe\") == \"a b c d e f\"\\nassert translation(\"sooooso aaaaaaaaa\") == \"sos aaa\"\\n\\nprint(\"The mission is done! Click \\'Check Solution\\' to earn rewards!\")\\n'"
      ]
     },
     "execution_count": 7,
     "metadata": {},
     "output_type": "execute_result"
    }
   ],
   "source": [
    "# given a word, the bird appends letters to it according to the following rules:\n",
    "# after each consonant letter the bird appends a random vowel letter (l ⇒ la or le);\n",
    "# after each vowel letter the bird appends two of the same letter (a ⇒ aaa);\n",
    "# i want to remove those random letters from the word and appends to get the original word.\n",
    "\n",
    "import re,functools\n",
    "\n",
    "def translation(text: str) -> str:\n",
    "    \n",
    "    translate=functools.partial(re.sub,r\"(\\w)(\\1\\1|.)\",r\"\\1\")\n",
    "\n",
    "    return translate(text)\n",
    "\n",
    "def translation2(text: str) -> str:\n",
    "    letters = \"aeiouy\"\n",
    "    new = ''\n",
    "    index = 0\n",
    "    while index < len(text):\n",
    "        if text[index] == ' ':\n",
    "            new += text[index]\n",
    "        elif text[index] not in letters and text[index + 1] in letters:\n",
    "            new += text[index]\n",
    "            index += 1\n",
    "        elif text[index] in letters:\n",
    "            if text[index:index + 3] == text[index] * 3:\n",
    "                new += text[index]\n",
    "                index += 2\n",
    "        index += 1\n",
    "    return new\n",
    "\n",
    "\n",
    "print(\"Example:\")\n",
    "print(translation(\"hieeelalaooo\"))\n",
    "print(translation(\"hoooowe yyyooouuu duoooiiine\"))\n",
    "print(translation(\"aaa bo cy da eee fe\"))\n",
    "print(translation(\"sooooso aaaaaaaaa\"))\n",
    "\n",
    "'''\n",
    "# These \"asserts\" are used for self-checking\n",
    "assert translation(\"hieeelalaooo\") == \"hello\"\n",
    "assert translation(\"hoooowe yyyooouuu duoooiiine\") == \"how you doin\"\n",
    "assert translation(\"aaa bo cy da eee fe\") == \"a b c d e f\"\n",
    "assert translation(\"sooooso aaaaaaaaa\") == \"sos aaa\"\n",
    "\n",
    "print(\"The mission is done! Click 'Check Solution' to earn rewards!\")\n",
    "'''"
   ]
  },
  {
   "cell_type": "code",
   "execution_count": null,
   "metadata": {},
   "outputs": [
    {
     "name": "stdout",
     "output_type": "stream",
     "text": [
      "Example:\n",
      "hello\n",
      "The mission is done! Click 'Check Solution' to earn rewards!\n"
     ]
    }
   ],
   "source": [
    "def checkio(line1: str, line2: str) -> str:\n",
    "    \n",
    "    return_word = \"\"\n",
    "    words1 = set(line1.split(','))\n",
    "    words2 = set(line2.split(','))\n",
    "    \n",
    "    common_words = words1 & words2\n",
    "    return_word = ','.join(sorted(common_words))\n",
    "    \n",
    "    return return_word\n",
    "\n",
    "\n",
    "print(\"Example:\")\n",
    "print(checkio(\"hello,world\", \"hello,earth\"))\n",
    "\n",
    "# These \"asserts\" are used for self-checking\n",
    "assert checkio(\"hello,world\", \"hello,earth\") == \"hello\"\n",
    "assert checkio(\"one,two,three\", \"four,five,six\") == \"\"\n",
    "assert checkio(\"one,two,three\", \"four,five,one,two,six,three\") == \"one,three,two\"\n",
    "\n",
    "print(\"The mission is done! Click 'Check Solution' to earn rewards!\")"
   ]
  },
  {
   "cell_type": "code",
   "execution_count": 10,
   "metadata": {},
   "outputs": [
    {
     "name": "stdout",
     "output_type": "stream",
     "text": [
      "Example:\n",
      "[-1, 4]\n",
      "The mission is done! Click 'Check Solution' to earn rewards!\n"
     ]
    }
   ],
   "source": [
    "def follow(instructions: str) -> tuple[int, int] | list[int]:\n",
    "    starting_point = [0, 0]\n",
    "    ending_point = [0, 0]\n",
    "    \n",
    "    for i in range(len(instructions)):\n",
    "        if instructions[i] == 'f':\n",
    "            ending_point[1] += 1\n",
    "        elif instructions[i] == 'b':\n",
    "            ending_point[1] -= 1\n",
    "        elif instructions[i] == 'l':\n",
    "            ending_point[0] -= 1\n",
    "        elif instructions[i] == 'r':\n",
    "            ending_point[0] += 1\n",
    "    \n",
    "    return ending_point\n",
    "\n",
    "\n",
    "print(\"Example:\")\n",
    "print(list(follow(\"fflff\")))\n",
    "\n",
    "# These \"asserts\" are used for self-checking\n",
    "assert list(follow(\"fflff\")) == [-1, 4]\n",
    "assert list(follow(\"ffrff\")) == [1, 4]\n",
    "assert list(follow(\"fblr\")) == [0, 0]\n",
    "\n",
    "print(\"The mission is done! Click 'Check Solution' to earn rewards!\")"
   ]
  },
  {
   "cell_type": "code",
   "execution_count": 16,
   "metadata": {},
   "outputs": [
    {
     "name": "stdout",
     "output_type": "stream",
     "text": [
      "Example:\n",
      "True\n",
      "The mission is done! Click 'Check Solution' to earn rewards!\n"
     ]
    }
   ],
   "source": [
    "def check_pangram(text: str) -> bool:\n",
    "    \n",
    "    charset = \"abcdefghijklmnopqrstuvwxyz\"\n",
    "    text = text.lower()\n",
    "    char_dict = {}\n",
    "        \n",
    "    for i in range(len(text)):\n",
    "        \n",
    "        if text[i] in charset:\n",
    "            char_dict[text[i]] = 1\n",
    "    \n",
    "    return len(char_dict) == 26\n",
    "\n",
    "\n",
    "print(\"Example:\")\n",
    "print(check_pangram(\"The quick brown fox jumps over the lazy dog.\"))\n",
    "\n",
    "# These \"asserts\" are used for self-checking\n",
    "assert check_pangram(\"The quick brown fox jumps over the lazy dog.\") == True\n",
    "assert check_pangram(\"ABCDEF\") == False\n",
    "assert check_pangram(\"abcdefghijklmnopqrstuvwxyz\") == True\n",
    "assert check_pangram(\"ABCDEFGHIJKLMNOPQRSTUVWXYZ\") == True\n",
    "assert check_pangram(\"abcdefghijklmnopqrstuvwxy\") == False\n",
    "assert (\n",
    "    check_pangram(\"Bored? Craving a pub quiz fix? Why, just come to the Royal Oak!\")\n",
    "    == True\n",
    ")\n",
    "assert check_pangram(\"As quirky joke, chefs won't pay devil magic zebra tax.\") == True\n",
    "assert check_pangram(\"Six big devils from Japan quickly forgot how to walt.\") == False\n",
    "\n",
    "print(\"The mission is done! Click 'Check Solution' to earn rewards!\")"
   ]
  },
  {
   "cell_type": "code",
   "execution_count": 49,
   "metadata": {},
   "outputs": [
    {
     "name": "stdout",
     "output_type": "stream",
     "text": [
      "Example:\n",
      "[1, 2, 3]\n",
      "The mission is done! Click 'Check Solution' to earn rewards!\n"
     ]
    }
   ],
   "source": [
    "#greedy Algorithm\n",
    "\n",
    "def beat_previous(digits: str) -> list[int]:\n",
    "    if not digits:\n",
    "        return []\n",
    "    \n",
    "    high_num = [int(digits[0])]\n",
    "    i = 1\n",
    "    while i < len(digits):\n",
    "        found = False\n",
    "        for j in range(i + 1, len(digits) + 1):\n",
    "            num = int(digits[i:j])\n",
    "            if num > high_num[-1]:\n",
    "                high_num.append(num)\n",
    "                i = j\n",
    "                found = True\n",
    "                break\n",
    "        if not found:\n",
    "            break\n",
    "    return high_num\n",
    "\n",
    "\n",
    "def beat_previous2(digits: str) -> list[int]:\n",
    "    \n",
    "    high_num = []\n",
    "    high_num.append(int(digits[0]))\n",
    "    i = 1\n",
    "    \n",
    "    while i < len(digits):\n",
    "        if int(digits[i]) > high_num[-1]:\n",
    "            high_num.append(int(digits[i]))\n",
    "            print(high_num)\n",
    "            i += 1 \n",
    "        else:\n",
    "            if i + 1 < len(digits):\n",
    "                slide = int(digits[i] + digits[i+1])\n",
    "                if slide > high_num[-1]:\n",
    "                    high_num.append(slide)\n",
    "                    print(high_num)\n",
    "                    i += 2  # Additional increment\n",
    "                else:\n",
    "                    i += 1\n",
    "            else:\n",
    "                break\n",
    "                \n",
    "    return high_num\n",
    "\n",
    "\n",
    "print(\"Example:\")\n",
    "print(beat_previous(\"123\"))\n",
    "\n",
    "# These \"asserts\" are used for self-checking\n",
    "assert beat_previous(\"600005\") == [6]\n",
    "assert beat_previous(\"6000050\") == [6, 50]\n",
    "assert beat_previous(\"045349\") == [0, 4, 5, 34]\n",
    "assert beat_previous(\"77777777777777777777777\") == [7, 77, 777, 7777, 77777, 777777]\n",
    "\n",
    "print(\"The mission is done! Click 'Check Solution' to earn rewards!\")"
   ]
  },
  {
   "cell_type": "code",
   "execution_count": 53,
   "metadata": {},
   "outputs": [
    {
     "name": "stdout",
     "output_type": "stream",
     "text": [
      "Example:\n",
      "5\n",
      "4\n",
      "4\n",
      "7\n"
     ]
    },
    {
     "ename": "AssertionError",
     "evalue": "",
     "output_type": "error",
     "traceback": [
      "\u001b[1;31m---------------------------------------------------------------------------\u001b[0m",
      "\u001b[1;31mAssertionError\u001b[0m                            Traceback (most recent call last)",
      "Cell \u001b[1;32mIn[53], line 28\u001b[0m\n\u001b[0;32m     26\u001b[0m \u001b[38;5;28;01massert\u001b[39;00m staircase(\u001b[38;5;124m\"\u001b[39m\u001b[38;5;124m100123\u001b[39m\u001b[38;5;124m\"\u001b[39m) \u001b[38;5;241m==\u001b[39m \u001b[38;5;241m4\u001b[39m\n\u001b[0;32m     27\u001b[0m \u001b[38;5;28;01massert\u001b[39;00m staircase(\u001b[38;5;124m\"\u001b[39m\u001b[38;5;124m503715\u001b[39m\u001b[38;5;124m\"\u001b[39m) \u001b[38;5;241m==\u001b[39m \u001b[38;5;241m4\u001b[39m\n\u001b[1;32m---> 28\u001b[0m \u001b[38;5;28;01massert\u001b[39;00m staircase(\u001b[38;5;124m\"\u001b[39m\u001b[38;5;124m0425494220946\u001b[39m\u001b[38;5;124m\"\u001b[39m) \u001b[38;5;241m==\u001b[39m \u001b[38;5;241m6\u001b[39m\n\u001b[0;32m     29\u001b[0m \u001b[38;5;28;01massert\u001b[39;00m staircase(\u001b[38;5;124m\"\u001b[39m\u001b[38;5;124m04414952075836\u001b[39m\u001b[38;5;124m\"\u001b[39m) \u001b[38;5;241m==\u001b[39m \u001b[38;5;241m7\u001b[39m\n\u001b[0;32m     30\u001b[0m \u001b[38;5;28;01massert\u001b[39;00m staircase(\u001b[38;5;124m\"\u001b[39m\u001b[38;5;124m1234567891011213\u001b[39m\u001b[38;5;124m\"\u001b[39m) \u001b[38;5;241m==\u001b[39m \u001b[38;5;241m12\u001b[39m\n",
      "\u001b[1;31mAssertionError\u001b[0m: "
     ]
    }
   ],
   "source": [
    "def staircase(digits: str) -> int:\n",
    "    if not digits:\n",
    "        return 0\n",
    "    \n",
    "    n = len(digits)\n",
    "    dp = [1] * n  # Each digit is at least a sequence of length 1\n",
    "    \n",
    "    for i in range(1, n):\n",
    "        for j in range(i):\n",
    "            for k in range(j + 1, i + 1):\n",
    "                current_num = int(digits[j:k])\n",
    "                previous_num = int(digits[:j][-1:]) if j > 0 else int(digits[0])\n",
    "                if current_num > previous_num:\n",
    "                    dp[i] = max(dp[i], dp[j] + 1)\n",
    "                    \n",
    "    return max(dp)\n",
    "\n",
    "\n",
    "print(\"Example:\")\n",
    "print(staircase(\"31415926\"))\n",
    "print(staircase(\"100123\"))\n",
    "print(staircase(\"503715\"))\n",
    "print(staircase(\"0425494220946\"))\n",
    "\n",
    "# These \"asserts\" are used for self-checking\n",
    "assert staircase(\"100123\") == 4\n",
    "assert staircase(\"503715\") == 4\n",
    "assert staircase(\"0425494220946\") == 6\n",
    "assert staircase(\"04414952075836\") == 7\n",
    "assert staircase(\"1234567891011213\") == 12\n",
    "\n",
    "print(\"The mission is done! Click 'Check Solution' to earn rewards!\")"
   ]
  }
 ],
 "metadata": {
  "kernelspec": {
   "display_name": "Python 3",
   "language": "python",
   "name": "python3"
  },
  "language_info": {
   "codemirror_mode": {
    "name": "ipython",
    "version": 3
   },
   "file_extension": ".py",
   "mimetype": "text/x-python",
   "name": "python",
   "nbconvert_exporter": "python",
   "pygments_lexer": "ipython3",
   "version": "3.12.7"
  }
 },
 "nbformat": 4,
 "nbformat_minor": 2
}
